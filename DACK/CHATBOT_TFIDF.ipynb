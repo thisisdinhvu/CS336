{
 "cells": [
  {
   "cell_type": "markdown",
   "metadata": {},
   "source": [
    "# LAWYER  APPRENTICE BOT- TFIDF"
   ]
  },
  {
   "cell_type": "markdown",
   "metadata": {},
   "source": [
    "Load Required Library"
   ]
  },
  {
   "cell_type": "code",
   "execution_count": 1,
   "metadata": {},
   "outputs": [],
   "source": [
    "import pandas as pd\n",
    "import os\n",
    "import json\n",
    "import nltk\n",
    "from nltk.corpus import stopwords \n",
    "from nltk.tokenize import word_tokenize \n",
    "from nltk import pos_tag\n",
    "import numpy as np\n",
    "import pickle\n",
    "import string\n",
    "import random\n",
    "import timeit\n",
    "from sklearn.feature_extraction.text import CountVectorizer\n",
    "from sklearn.metrics.pairwise import cosine_similarity\n",
    "from sklearn.feature_extraction.text import TfidfVectorizer \n",
    "\n",
    "import warnings\n",
    "warnings.simplefilter('ignore')"
   ]
  },
  {
   "cell_type": "code",
   "execution_count": 2,
   "metadata": {},
   "outputs": [
    {
     "name": "stderr",
     "output_type": "stream",
     "text": [
      "[nltk_data] Error loading punkt: <urlopen error [Errno 11001]\n",
      "[nltk_data]     getaddrinfo failed>\n"
     ]
    },
    {
     "data": {
      "text/plain": [
       "False"
      ]
     },
     "execution_count": 2,
     "metadata": {},
     "output_type": "execute_result"
    }
   ],
   "source": [
    "nltk.download('punkt')"
   ]
  },
  {
   "cell_type": "markdown",
   "metadata": {},
   "source": [
    "Data Preparation - Convert CSV to JSON"
   ]
  },
  {
   "cell_type": "code",
   "execution_count": 3,
   "metadata": {},
   "outputs": [
    {
     "data": {
      "text/html": [
       "<div>\n",
       "<style scoped>\n",
       "    .dataframe tbody tr th:only-of-type {\n",
       "        vertical-align: middle;\n",
       "    }\n",
       "\n",
       "    .dataframe tbody tr th {\n",
       "        vertical-align: top;\n",
       "    }\n",
       "\n",
       "    .dataframe thead th {\n",
       "        text-align: right;\n",
       "    }\n",
       "</style>\n",
       "<table border=\"1\" class=\"dataframe\">\n",
       "  <thead>\n",
       "    <tr style=\"text-align: right;\">\n",
       "      <th></th>\n",
       "      <th>MESSAGE</th>\n",
       "      <th>RESPONSE</th>\n",
       "    </tr>\n",
       "  </thead>\n",
       "  <tbody>\n",
       "    <tr>\n",
       "      <th>0</th>\n",
       "      <td>What are the requirements for me to adopt my n...</td>\n",
       "      <td>You may wish to visit this site: https://app.a...</td>\n",
       "    </tr>\n",
       "    <tr>\n",
       "      <th>1</th>\n",
       "      <td>how to have a properly adopted in accordance w...</td>\n",
       "      <td>You may want to refer to this site:https://app...</td>\n",
       "    </tr>\n",
       "    <tr>\n",
       "      <th>2</th>\n",
       "      <td>we have been raising our grandchild from birth...</td>\n",
       "      <td>You would have to apply to the Family Courts: ...</td>\n",
       "    </tr>\n",
       "    <tr>\n",
       "      <th>3</th>\n",
       "      <td>I was legally adopted since young. Many years ...</td>\n",
       "      <td>Your biological parents will have to apply to ...</td>\n",
       "    </tr>\n",
       "    <tr>\n",
       "      <th>4</th>\n",
       "      <td>Can an adoption be reversed? Both adoptive par...</td>\n",
       "      <td>We are not aware of any such cases as the Adop...</td>\n",
       "    </tr>\n",
       "  </tbody>\n",
       "</table>\n",
       "</div>"
      ],
      "text/plain": [
       "                                             MESSAGE  \\\n",
       "0  What are the requirements for me to adopt my n...   \n",
       "1  how to have a properly adopted in accordance w...   \n",
       "2  we have been raising our grandchild from birth...   \n",
       "3  I was legally adopted since young. Many years ...   \n",
       "4  Can an adoption be reversed? Both adoptive par...   \n",
       "\n",
       "                                            RESPONSE  \n",
       "0  You may wish to visit this site: https://app.a...  \n",
       "1  You may want to refer to this site:https://app...  \n",
       "2  You would have to apply to the Family Courts: ...  \n",
       "3  Your biological parents will have to apply to ...  \n",
       "4  We are not aware of any such cases as the Adop...  "
      ]
     },
     "execution_count": 3,
     "metadata": {},
     "output_type": "execute_result"
    }
   ],
   "source": [
    "# path = '/home/machine1/SANDY/text_mining/CHATBOT/1_TFIDF/'\n",
    "path = 'D:/HK5(2024-2025)/CS336 - Truy van thong tin da phuong tien/DOANCK/'\n",
    "convdata = pd.read_csv(path+'legal_help_clean.csv')\n",
    "# Show header of the dataset\n",
    "convdata.head()"
   ]
  },
  {
   "cell_type": "code",
   "execution_count": 4,
   "metadata": {},
   "outputs": [
    {
     "name": "stdout",
     "output_type": "stream",
     "text": [
      "Number of messages: 1547\n",
      "Number of responses: 1547\n"
     ]
    }
   ],
   "source": [
    "num_messages = convdata['MESSAGE'].count()\n",
    "num_responses = convdata['RESPONSE'].count()\n",
    "\n",
    "print(f\"Number of messages: {num_messages}\")\n",
    "print(f\"Number of responses: {num_responses}\")\n"
   ]
  },
  {
   "cell_type": "code",
   "execution_count": 5,
   "metadata": {},
   "outputs": [
    {
     "data": {
      "text/plain": [
       "[{'MESSAGE': \"What are the requirements for me to adopt my nephew whom I have been caring like my own for 7 years after parents' divorce?\",\n",
       "  'RESPONSE': 'You may wish to visit this site: https://app.adoption.gov.sg/AdoptionProcess.aspx'},\n",
       " {'MESSAGE': 'how to have a properly adopted in accordance with the laws of Singapore for my godson,who is a PR now',\n",
       "  'RESPONSE': 'You may want to refer to this site:https://app.msf.gov.sg/Adoption/How-to-adopt-a-citizen-or-PR'}]"
      ]
     },
     "execution_count": 5,
     "metadata": {},
     "output_type": "execute_result"
    }
   ],
   "source": [
    "# Convert dataframes to json\n",
    "convdata_json = json.loads(convdata.to_json(orient='records'))\n",
    "convdata_json[0:2]"
   ]
  },
  {
   "cell_type": "code",
   "execution_count": 6,
   "metadata": {},
   "outputs": [],
   "source": [
    "# Export as data as JSON\n",
    "with open(path+'conversation_json.json', 'w') as outfile:\n",
    "    json.dump(convdata_json, outfile)"
   ]
  },
  {
   "cell_type": "markdown",
   "metadata": {},
   "source": [
    "Function Definition"
   ]
  },
  {
   "cell_type": "code",
   "execution_count": 7,
   "metadata": {},
   "outputs": [],
   "source": [
    "#greeting function\n",
    "GREETING_INPUTS = (\"hello\", \"hi\", \"greetings\", \"hello i need help\", \"good day\",\"hey\",\"i need help\", \"can you help me\", \"start\", \"help\")\n",
    "GREETING_RESPONSES = [\"Good day, what can i help you?\", \"Hello, how can i help you?\", \"Hello\"]\n",
    "           \n",
    "def greeting(sentence):\n",
    "    for word in sentence.split():\n",
    "        if word.lower() in GREETING_INPUTS:\n",
    "            return random.choice(GREETING_RESPONSES)"
   ]
  },
  {
   "cell_type": "code",
   "execution_count": 8,
   "metadata": {},
   "outputs": [],
   "source": [
    "# Wordnet Lemmatization \n",
    "\n",
    "lemmer = nltk.WordNetLemmatizer()\n",
    "def LemTokens(tokens):\n",
    "    return [lemmer.lemmatize(token) for token in tokens]"
   ]
  },
  {
   "cell_type": "code",
   "execution_count": 9,
   "metadata": {},
   "outputs": [],
   "source": [
    "# Remove punctuation\n",
    "def RemovePunction(tokens):\n",
    "    return[t for t in tokens if t not in string.punctuation]"
   ]
  },
  {
   "cell_type": "code",
   "execution_count": 10,
   "metadata": {},
   "outputs": [
    {
     "name": "stderr",
     "output_type": "stream",
     "text": [
      "[nltk_data] Error loading stopwords: <urlopen error [Errno 11001]\n",
      "[nltk_data]     getaddrinfo failed>\n",
      "[nltk_data] Error loading punkt_tab: <urlopen error [Errno 11001]\n",
      "[nltk_data]     getaddrinfo failed>\n",
      "[nltk_data] Error loading averaged_perceptron_tagger_eng: <urlopen\n",
      "[nltk_data]     error [Errno 11001] getaddrinfo failed>\n"
     ]
    },
    {
     "name": "stdout",
     "output_type": "stream",
     "text": [
      "179\n"
     ]
    },
    {
     "name": "stderr",
     "output_type": "stream",
     "text": [
      "[nltk_data] Error loading universal_tagset: <urlopen error [Errno\n",
      "[nltk_data]     11001] getaddrinfo failed>\n"
     ]
    }
   ],
   "source": [
    "import nltk\n",
    "nltk.download('stopwords')\n",
    "nltk.download('punkt_tab')\n",
    "nltk.download('averaged_perceptron_tagger_eng')\n",
    "nltk.download('universal_tagset')\n",
    "# Create a stopword list from the standard list of stopwords available in nltk\n",
    "stop_words = set(stopwords.words('english'))\n",
    "print(len(stop_words))"
   ]
  },
  {
   "cell_type": "code",
   "execution_count": 11,
   "metadata": {},
   "outputs": [],
   "source": [
    "def Talk_To_BOT(test_set_sentence):\n",
    "    json_file_path = path+\"conversation_json.json\" \n",
    "    tfidf_vectorizer_pickle_path = path + \"tfidf_vectorizer.pkl\"\n",
    "    tfidf_matrix_pickle_path = path+ \"tfidf_matrix_train.pkl\"\n",
    "    \n",
    "    i = 0\n",
    "    sentences = []\n",
    "    \n",
    "    # ---------------Tokenisation of user input -----------------------------#\n",
    "    \n",
    "    tokens = RemovePunction(nltk.word_tokenize(test_set_sentence))\n",
    "    pos_tokens = [word for word,pos in pos_tag(tokens, tagset='universal')]\n",
    "    \n",
    "    word_tokens = LemTokens(pos_tokens)\n",
    "    \n",
    "    filtered_sentence = []\n",
    "    for w in word_tokens: \n",
    "        if w not in stop_words: \n",
    "            filtered_sentence.append(w)  \n",
    "    \n",
    "    filtered_sentence =\" \".join(filtered_sentence).lower()\n",
    "            \n",
    "    test_set = (filtered_sentence, \"\")\n",
    "    \n",
    "    #For Tracing, comment to remove from print.\n",
    "    #print('USER INPUT:'+filtered_sentence)\n",
    "    \n",
    "    # -----------------------------------------------------------------------#\n",
    "        \n",
    "    try: \n",
    "        # ---------------Use Pre-Train Model------------------#\n",
    "        f = open(tfidf_vectorizer_pickle_path, 'rb')\n",
    "        tfidf_vectorizer = pickle.load(f)\n",
    "        f.close()\n",
    "        \n",
    "        f = open(tfidf_matrix_pickle_path, 'rb')\n",
    "        tfidf_matrix_train = pickle.load(f)\n",
    "        # ---------------------------------------------------#\n",
    "    except: \n",
    "        # ---------------To Train------------------#\n",
    "        \n",
    "        start = timeit.default_timer()\n",
    "        \n",
    "        with open(json_file_path) as sentences_file:\n",
    "            reader = json.load(sentences_file)\n",
    "            \n",
    "            # ---------------Tokenisation of training input -----------------------------#    \n",
    "            \n",
    "            for row in reader:\n",
    "                db_tokens = RemovePunction(nltk.word_tokenize(row['MESSAGE']))\n",
    "                pos_db_tokens = [word for word,pos in pos_tag(db_tokens, tagset='universal')]\n",
    "                db_word_tokens = LemTokens(pos_db_tokens)\n",
    "                \n",
    "                db_filtered_sentence = [] \n",
    "                for dbw in db_word_tokens: \n",
    "                    if dbw not in stop_words: \n",
    "                        db_filtered_sentence.append(dbw)  \n",
    "                \n",
    "                db_filtered_sentence =\" \".join(db_filtered_sentence).lower()\n",
    "                \n",
    "                #Debugging Checkpoint\n",
    "                print('TRAINING INPUT: '+db_filtered_sentence)\n",
    "                \n",
    "                sentences.append(db_filtered_sentence)\n",
    "                i +=1                \n",
    "            # ---------------------------------------------------------------------------#\n",
    "                \n",
    "        tfidf_vectorizer = TfidfVectorizer() \n",
    "        tfidf_matrix_train = tfidf_vectorizer.fit_transform(sentences)\n",
    "        \n",
    "        #train timing\n",
    "        stop = timeit.default_timer()\n",
    "        print (\"Training Time : \")\n",
    "        print (stop - start) \n",
    "    \n",
    "        f = open(tfidf_vectorizer_pickle_path, 'wb')\n",
    "        pickle.dump(tfidf_vectorizer, f) \n",
    "        f.close()\n",
    "    \n",
    "        f = open(tfidf_matrix_pickle_path, 'wb')\n",
    "        pickle.dump(tfidf_matrix_train, f) \n",
    "        f.close \n",
    "        # ------------------------------------------#\n",
    "        \n",
    "    #use the learnt dimension space to run TF-IDF on the query\n",
    "    tfidf_matrix_test = tfidf_vectorizer.transform(test_set)\n",
    "\n",
    "    #then run cosine similarity between the 2 tf-idfs\n",
    "    cosine = cosine_similarity(tfidf_matrix_test, tfidf_matrix_train)\n",
    "    \n",
    "    #if not in the topic trained.no similarity \n",
    "    idx= cosine.argsort()[0][-2]\n",
    "    flat =  cosine.flatten()\n",
    "    flat.sort()\n",
    "    req_tfidf = flat[-2]\n",
    "    \n",
    "    if (req_tfidf==0): #Threshold A\n",
    "        \n",
    "        not_understood = \"Apology, I do not understand. Can you rephrase?\"\n",
    "        \n",
    "        return not_understood, not_understood, 2\n",
    "        \n",
    "    else:\n",
    "        \n",
    "        cosine = np.delete(cosine, 0)\n",
    "\n",
    "        #get the max score\n",
    "        max = cosine.max()\n",
    "        response_index = 0\n",
    "\n",
    "        #if max score is lower than < 0.34 > (we see can ask if need to rephrase.)\n",
    "        if (max <= 0.34): #Threshold B\n",
    "            \n",
    "            not_understood = \"Apology, I don't understand. Can you rephrase?\"\n",
    "            \n",
    "            return not_understood,not_understood, 2\n",
    "        else:\n",
    "\n",
    "                #if score is more than 0.91 list the multi response and get a random reply\n",
    "                if (max > 0.91): #Threshold C\n",
    "                    \n",
    "                    new_max = max - 0.05 \n",
    "                    # load them to a list\n",
    "                    list = np.where(cosine > new_max) \n",
    "                   \n",
    "                    # choose a random one to return to the user \n",
    "                    response_index = random.choice(list[0])\n",
    "                else:\n",
    "                    # else we would simply return the highest score\n",
    "                    response_index = np.where(cosine == max)[0][0] + 2 \n",
    "\n",
    "                j = 0 \n",
    "\n",
    "                with open(json_file_path, \"r\") as sentences_file:\n",
    "                    reader = json.load(sentences_file)\n",
    "                    for row in reader:\n",
    "                        j += 1 \n",
    "                        if j == response_index: \n",
    "                            return row[\"RESPONSE\"], row[\"MESSAGE\"], max\n",
    "                            break"
   ]
  },
  {
   "cell_type": "code",
   "execution_count": 12,
   "metadata": {},
   "outputs": [
    {
     "name": "stdout",
     "output_type": "stream",
     "text": [
      "* Running on local URL:  http://127.0.0.1:7860\n",
      "\n",
      "Could not create share link. Please check your internet connection or our status page: https://status.gradio.app.\n"
     ]
    },
    {
     "data": {
      "text/html": [
       "<div><iframe src=\"http://127.0.0.1:7860/\" width=\"100%\" height=\"500\" allow=\"autoplay; camera; microphone; clipboard-read; clipboard-write;\" frameborder=\"0\" allowfullscreen></iframe></div>"
      ],
      "text/plain": [
       "<IPython.core.display.HTML object>"
      ]
     },
     "metadata": {},
     "output_type": "display_data"
    },
    {
     "data": {
      "text/plain": []
     },
     "execution_count": 12,
     "metadata": {},
     "output_type": "execute_result"
    }
   ],
   "source": [
    "import gradio as gr\n",
    "\n",
    "def chatbot_interface(input_text, history=[]):\n",
    "    if input_text.lower() == 'bye':\n",
    "        history.append(\"User: \" + input_text)\n",
    "        history.append(\"Jarvis: Bye!.\")\n",
    "        return history, history\n",
    "\n",
    "    response = greeting(input_text.lower())\n",
    "    if response is not None:\n",
    "        history.append(\"User: \" + input_text)\n",
    "        history.append(\"Jarvis: \" + response)\n",
    "        return history, history\n",
    "    else:\n",
    "        response_primary, response_message, line_id_primary = Talk_To_BOT(input_text)\n",
    "        history.append(\"User: \" + input_text)\n",
    "        history.append(\"Jarvis: \" + response_primary)\n",
    "        return history, history\n",
    "\n",
    "\n",
    "# Create the Gradio interface\n",
    "interface = gr.Blocks()\n",
    "\n",
    "with interface:\n",
    "    gr.Markdown(\"# Lawyer Apprentice Bot\")\n",
    "    \n",
    "    chatbot = gr.Chatbot()\n",
    "    state = gr.State([])  # Initialize the state with an empty list\n",
    "    \n",
    "    with gr.Row():\n",
    "        txt = gr.Textbox(show_label=False, placeholder=\"Enter your message here...\")\n",
    "        btn = gr.Button(\"Submit\")\n",
    "    \n",
    "    def respond(input_text, history):\n",
    "        history, output = chatbot_interface(input_text, history)\n",
    "        messages = [(history[i], history[i+1]) for i in range(0, len(history), 2)]\n",
    "        txt.value = \"\"  # Clear the text input box after submission\n",
    "        return messages, history\n",
    "\n",
    "    txt.submit(respond, [txt, state], [chatbot, state])\n",
    "    btn.click(respond, [txt, state], [chatbot, state])\n",
    "\n",
    "    with gr.Row():\n",
    "        clear = gr.Button(\"Clear Chat\")\n",
    "        clear.click(lambda: ([], []), None, [chatbot, state])\n",
    "\n",
    "interface.launch(share=True)\n"
   ]
  },
  {
   "cell_type": "code",
   "execution_count": null,
   "metadata": {},
   "outputs": [],
   "source": []
  },
  {
   "cell_type": "code",
   "execution_count": null,
   "metadata": {},
   "outputs": [],
   "source": []
  },
  {
   "cell_type": "code",
   "execution_count": null,
   "metadata": {},
   "outputs": [],
   "source": []
  },
  {
   "cell_type": "code",
   "execution_count": null,
   "metadata": {},
   "outputs": [],
   "source": []
  },
  {
   "cell_type": "code",
   "execution_count": null,
   "metadata": {},
   "outputs": [],
   "source": []
  }
 ],
 "metadata": {
  "kernelspec": {
   "display_name": "Python 3",
   "language": "python",
   "name": "python3"
  },
  "language_info": {
   "codemirror_mode": {
    "name": "ipython",
    "version": 3
   },
   "file_extension": ".py",
   "mimetype": "text/x-python",
   "name": "python",
   "nbconvert_exporter": "python",
   "pygments_lexer": "ipython3",
   "version": "3.11.5"
  }
 },
 "nbformat": 4,
 "nbformat_minor": 2
}
